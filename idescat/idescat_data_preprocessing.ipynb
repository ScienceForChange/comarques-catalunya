{
  "nbformat": 4,
  "nbformat_minor": 0,
  "metadata": {
    "colab": {
      "name": "scratchpad",
      "provenance": []
    },
    "kernelspec": {
      "display_name": "Python 3",
      "name": "python3"
    }
  },
  "cells": [
    {
      "cell_type": "code",
      "metadata": {
        "id": "lIYdn1woOS1n"
      },
      "source": [
        "import pandas as pd\n",
        "df_municipis = pd.read_excel('/content/idescat_data.xls', sheet_name='municipis')\n",
        "df_ist = pd.read_excel('/content/idescat_data.xls', sheet_name='IST')\n",
        "df_densitat = pd.read_excel('/content/idescat_data.xls', sheet_name='densitat')"
      ],
      "execution_count": 44,
      "outputs": []
    },
    {
      "cell_type": "code",
      "metadata": {
        "colab": {
          "base_uri": "https://localhost:8080/"
        },
        "id": "S0BR2u6fQtjX",
        "outputId": "db4c802c-51f0-44ed-ce3d-c4cd2869b4bd"
      },
      "source": [
        "df_municipis.shape"
      ],
      "execution_count": 45,
      "outputs": [
        {
          "output_type": "execute_result",
          "data": {
            "text/plain": [
              "(947, 4)"
            ]
          },
          "metadata": {},
          "execution_count": 45
        }
      ]
    },
    {
      "cell_type": "code",
      "metadata": {
        "colab": {
          "base_uri": "https://localhost:8080/"
        },
        "id": "zV_RKX8tQhUO",
        "outputId": "c2e959e2-386d-463e-ada2-604449ae57c5"
      },
      "source": [
        "df_ist.shape"
      ],
      "execution_count": 46,
      "outputs": [
        {
          "output_type": "execute_result",
          "data": {
            "text/plain": [
              "(211, 2)"
            ]
          },
          "metadata": {},
          "execution_count": 46
        }
      ]
    },
    {
      "cell_type": "code",
      "metadata": {
        "colab": {
          "base_uri": "https://localhost:8080/"
        },
        "id": "B3cs-2QbRArH",
        "outputId": "ca5a458d-6d01-44c6-c39d-1b8983c6bae5"
      },
      "source": [
        "df_densitat.shape"
      ],
      "execution_count": 47,
      "outputs": [
        {
          "output_type": "execute_result",
          "data": {
            "text/plain": [
              "(947, 4)"
            ]
          },
          "metadata": {},
          "execution_count": 47
        }
      ]
    },
    {
      "cell_type": "code",
      "metadata": {
        "colab": {
          "base_uri": "https://localhost:8080/",
          "height": 204
        },
        "id": "cR44Vl6rQC96",
        "outputId": "e5a6cfa8-d6dc-4b80-aa2d-67cc9de4b5f8"
      },
      "source": [
        "df = df_municipis.merge(df_densitat, how='left', on='Codi')\n",
        "df['densitat(habitants/km2)'] = round(df['Població'] / df['Superfície(km2)'],2)\n",
        "df.head()"
      ],
      "execution_count": 48,
      "outputs": [
        {
          "output_type": "execute_result",
          "data": {
            "text/html": [
              "<div>\n",
              "<style scoped>\n",
              "    .dataframe tbody tr th:only-of-type {\n",
              "        vertical-align: middle;\n",
              "    }\n",
              "\n",
              "    .dataframe tbody tr th {\n",
              "        vertical-align: top;\n",
              "    }\n",
              "\n",
              "    .dataframe thead th {\n",
              "        text-align: right;\n",
              "    }\n",
              "</style>\n",
              "<table border=\"1\" class=\"dataframe\">\n",
              "  <thead>\n",
              "    <tr style=\"text-align: right;\">\n",
              "      <th></th>\n",
              "      <th>Codi</th>\n",
              "      <th>Nom</th>\n",
              "      <th>Codi comarca</th>\n",
              "      <th>Nom comarca</th>\n",
              "      <th>Altitud(m)</th>\n",
              "      <th>Superfície(km2)</th>\n",
              "      <th>Població</th>\n",
              "      <th>densitat(habitants/km2)</th>\n",
              "    </tr>\n",
              "  </thead>\n",
              "  <tbody>\n",
              "    <tr>\n",
              "      <th>0</th>\n",
              "      <td>250019</td>\n",
              "      <td>Abella de la Conca</td>\n",
              "      <td>25</td>\n",
              "      <td>Pallars Jussà</td>\n",
              "      <td>956</td>\n",
              "      <td>78.27</td>\n",
              "      <td>183</td>\n",
              "      <td>2.34</td>\n",
              "    </tr>\n",
              "    <tr>\n",
              "      <th>1</th>\n",
              "      <td>80018</td>\n",
              "      <td>Abrera</td>\n",
              "      <td>11</td>\n",
              "      <td>Baix Llobregat</td>\n",
              "      <td>105</td>\n",
              "      <td>19.94</td>\n",
              "      <td>12538</td>\n",
              "      <td>628.79</td>\n",
              "    </tr>\n",
              "    <tr>\n",
              "      <th>2</th>\n",
              "      <td>250024</td>\n",
              "      <td>Àger</td>\n",
              "      <td>23</td>\n",
              "      <td>Noguera</td>\n",
              "      <td>642</td>\n",
              "      <td>160.57</td>\n",
              "      <td>580</td>\n",
              "      <td>3.61</td>\n",
              "    </tr>\n",
              "    <tr>\n",
              "      <th>3</th>\n",
              "      <td>250030</td>\n",
              "      <td>Agramunt</td>\n",
              "      <td>38</td>\n",
              "      <td>Urgell</td>\n",
              "      <td>337</td>\n",
              "      <td>79.65</td>\n",
              "      <td>5411</td>\n",
              "      <td>67.93</td>\n",
              "    </tr>\n",
              "    <tr>\n",
              "      <th>4</th>\n",
              "      <td>80023</td>\n",
              "      <td>Aguilar de Segarra</td>\n",
              "      <td>7</td>\n",
              "      <td>Bages</td>\n",
              "      <td>480</td>\n",
              "      <td>43.32</td>\n",
              "      <td>282</td>\n",
              "      <td>6.51</td>\n",
              "    </tr>\n",
              "  </tbody>\n",
              "</table>\n",
              "</div>"
            ],
            "text/plain": [
              "     Codi                Nom   ...  Població densitat(habitants/km2)\n",
              "0  250019  Abella de la Conca  ...       183                    2.34\n",
              "1   80018              Abrera  ...     12538                  628.79\n",
              "2  250024                Àger  ...       580                    3.61\n",
              "3  250030            Agramunt  ...      5411                   67.93\n",
              "4   80023  Aguilar de Segarra  ...       282                    6.51\n",
              "\n",
              "[5 rows x 8 columns]"
            ]
          },
          "metadata": {},
          "execution_count": 48
        }
      ]
    },
    {
      "cell_type": "code",
      "metadata": {
        "colab": {
          "base_uri": "https://localhost:8080/"
        },
        "id": "bA8NvmXkQQf6",
        "outputId": "9354a8f8-b2bd-4a84-b454-4420bbad0ba6"
      },
      "source": [
        "df.shape"
      ],
      "execution_count": 49,
      "outputs": [
        {
          "output_type": "execute_result",
          "data": {
            "text/plain": [
              "(947, 8)"
            ]
          },
          "metadata": {},
          "execution_count": 49
        }
      ]
    },
    {
      "cell_type": "code",
      "metadata": {
        "colab": {
          "base_uri": "https://localhost:8080/",
          "height": 204
        },
        "id": "vO62eOxISDrF",
        "outputId": "649f3136-6b81-4495-8a1d-88b14c455993"
      },
      "source": [
        "df = df.merge(df_ist, how='left', on='Codi')\n",
        "df.head()"
      ],
      "execution_count": 50,
      "outputs": [
        {
          "output_type": "execute_result",
          "data": {
            "text/html": [
              "<div>\n",
              "<style scoped>\n",
              "    .dataframe tbody tr th:only-of-type {\n",
              "        vertical-align: middle;\n",
              "    }\n",
              "\n",
              "    .dataframe tbody tr th {\n",
              "        vertical-align: top;\n",
              "    }\n",
              "\n",
              "    .dataframe thead th {\n",
              "        text-align: right;\n",
              "    }\n",
              "</style>\n",
              "<table border=\"1\" class=\"dataframe\">\n",
              "  <thead>\n",
              "    <tr style=\"text-align: right;\">\n",
              "      <th></th>\n",
              "      <th>Codi</th>\n",
              "      <th>Nom</th>\n",
              "      <th>Codi comarca</th>\n",
              "      <th>Nom comarca</th>\n",
              "      <th>Altitud(m)</th>\n",
              "      <th>Superfície(km2)</th>\n",
              "      <th>Població</th>\n",
              "      <th>densitat(habitants/km2)</th>\n",
              "      <th>Índex socioeconòmic territorial</th>\n",
              "    </tr>\n",
              "  </thead>\n",
              "  <tbody>\n",
              "    <tr>\n",
              "      <th>0</th>\n",
              "      <td>250019</td>\n",
              "      <td>Abella de la Conca</td>\n",
              "      <td>25</td>\n",
              "      <td>Pallars Jussà</td>\n",
              "      <td>956</td>\n",
              "      <td>78.27</td>\n",
              "      <td>183</td>\n",
              "      <td>2.34</td>\n",
              "      <td>NaN</td>\n",
              "    </tr>\n",
              "    <tr>\n",
              "      <th>1</th>\n",
              "      <td>80018</td>\n",
              "      <td>Abrera</td>\n",
              "      <td>11</td>\n",
              "      <td>Baix Llobregat</td>\n",
              "      <td>105</td>\n",
              "      <td>19.94</td>\n",
              "      <td>12538</td>\n",
              "      <td>628.79</td>\n",
              "      <td>104.1</td>\n",
              "    </tr>\n",
              "    <tr>\n",
              "      <th>2</th>\n",
              "      <td>250024</td>\n",
              "      <td>Àger</td>\n",
              "      <td>23</td>\n",
              "      <td>Noguera</td>\n",
              "      <td>642</td>\n",
              "      <td>160.57</td>\n",
              "      <td>580</td>\n",
              "      <td>3.61</td>\n",
              "      <td>NaN</td>\n",
              "    </tr>\n",
              "    <tr>\n",
              "      <th>3</th>\n",
              "      <td>250030</td>\n",
              "      <td>Agramunt</td>\n",
              "      <td>38</td>\n",
              "      <td>Urgell</td>\n",
              "      <td>337</td>\n",
              "      <td>79.65</td>\n",
              "      <td>5411</td>\n",
              "      <td>67.93</td>\n",
              "      <td>93.2</td>\n",
              "    </tr>\n",
              "    <tr>\n",
              "      <th>4</th>\n",
              "      <td>80023</td>\n",
              "      <td>Aguilar de Segarra</td>\n",
              "      <td>7</td>\n",
              "      <td>Bages</td>\n",
              "      <td>480</td>\n",
              "      <td>43.32</td>\n",
              "      <td>282</td>\n",
              "      <td>6.51</td>\n",
              "      <td>NaN</td>\n",
              "    </tr>\n",
              "  </tbody>\n",
              "</table>\n",
              "</div>"
            ],
            "text/plain": [
              "     Codi  ... Índex socioeconòmic territorial\n",
              "0  250019  ...                             NaN\n",
              "1   80018  ...                           104.1\n",
              "2  250024  ...                             NaN\n",
              "3  250030  ...                            93.2\n",
              "4   80023  ...                             NaN\n",
              "\n",
              "[5 rows x 9 columns]"
            ]
          },
          "metadata": {},
          "execution_count": 50
        }
      ]
    },
    {
      "cell_type": "code",
      "metadata": {
        "colab": {
          "base_uri": "https://localhost:8080/"
        },
        "id": "JHmRTDQYV3T3",
        "outputId": "0c985c71-ac3e-4f3a-ff30-74091e0d2408"
      },
      "source": [
        "df.columns"
      ],
      "execution_count": 51,
      "outputs": [
        {
          "output_type": "execute_result",
          "data": {
            "text/plain": [
              "Index(['Codi', 'Nom ', 'Codi comarca', 'Nom comarca', 'Altitud(m)',\n",
              "       'Superfície(km2)', 'Població', 'densitat(habitants/km2)',\n",
              "       'Índex socioeconòmic territorial'],\n",
              "      dtype='object')"
            ]
          },
          "metadata": {},
          "execution_count": 51
        }
      ]
    },
    {
      "cell_type": "code",
      "metadata": {
        "colab": {
          "base_uri": "https://localhost:8080/",
          "height": 142
        },
        "id": "74QmPMArSMSm",
        "outputId": "5a4db6d1-aba6-4491-846c-4b7d458baffa"
      },
      "source": [
        "df_ist_missing = pd.read_excel('/content/ist_comarques.xls')\n",
        "df_ist_missing.head(3)"
      ],
      "execution_count": 52,
      "outputs": [
        {
          "output_type": "execute_result",
          "data": {
            "text/html": [
              "<div>\n",
              "<style scoped>\n",
              "    .dataframe tbody tr th:only-of-type {\n",
              "        vertical-align: middle;\n",
              "    }\n",
              "\n",
              "    .dataframe tbody tr th {\n",
              "        vertical-align: top;\n",
              "    }\n",
              "\n",
              "    .dataframe thead th {\n",
              "        text-align: right;\n",
              "    }\n",
              "</style>\n",
              "<table border=\"1\" class=\"dataframe\">\n",
              "  <thead>\n",
              "    <tr style=\"text-align: right;\">\n",
              "      <th></th>\n",
              "      <th>Codi</th>\n",
              "      <th>Literal</th>\n",
              "      <th>Índex socioeconòmic territorial</th>\n",
              "    </tr>\n",
              "  </thead>\n",
              "  <tbody>\n",
              "    <tr>\n",
              "      <th>0</th>\n",
              "      <td>1</td>\n",
              "      <td>Alt Camp</td>\n",
              "      <td>95.0</td>\n",
              "    </tr>\n",
              "    <tr>\n",
              "      <th>1</th>\n",
              "      <td>2</td>\n",
              "      <td>Alt Empordà</td>\n",
              "      <td>84.2</td>\n",
              "    </tr>\n",
              "    <tr>\n",
              "      <th>2</th>\n",
              "      <td>3</td>\n",
              "      <td>Alt Penedès</td>\n",
              "      <td>100.0</td>\n",
              "    </tr>\n",
              "  </tbody>\n",
              "</table>\n",
              "</div>"
            ],
            "text/plain": [
              "   Codi      Literal  Índex socioeconòmic territorial\n",
              "0     1     Alt Camp                             95.0\n",
              "1     2  Alt Empordà                             84.2\n",
              "2     3  Alt Penedès                            100.0"
            ]
          },
          "metadata": {},
          "execution_count": 52
        }
      ]
    },
    {
      "cell_type": "code",
      "metadata": {
        "colab": {
          "base_uri": "https://localhost:8080/",
          "height": 142
        },
        "id": "j7bCfs0eTOUt",
        "outputId": "81b2d5b9-0ec4-406b-c250-0f7cf38fbaf3"
      },
      "source": [
        "df.loc[df['Índex socioeconòmic territorial'].isnull(),'IST_idescat'] = 0\n",
        "df.loc[~df['Índex socioeconòmic territorial'].isnull(),'IST_idescat'] = 1\n",
        "df.head(3)"
      ],
      "execution_count": 53,
      "outputs": [
        {
          "output_type": "execute_result",
          "data": {
            "text/html": [
              "<div>\n",
              "<style scoped>\n",
              "    .dataframe tbody tr th:only-of-type {\n",
              "        vertical-align: middle;\n",
              "    }\n",
              "\n",
              "    .dataframe tbody tr th {\n",
              "        vertical-align: top;\n",
              "    }\n",
              "\n",
              "    .dataframe thead th {\n",
              "        text-align: right;\n",
              "    }\n",
              "</style>\n",
              "<table border=\"1\" class=\"dataframe\">\n",
              "  <thead>\n",
              "    <tr style=\"text-align: right;\">\n",
              "      <th></th>\n",
              "      <th>Codi</th>\n",
              "      <th>Nom</th>\n",
              "      <th>Codi comarca</th>\n",
              "      <th>Nom comarca</th>\n",
              "      <th>Altitud(m)</th>\n",
              "      <th>Superfície(km2)</th>\n",
              "      <th>Població</th>\n",
              "      <th>densitat(habitants/km2)</th>\n",
              "      <th>Índex socioeconòmic territorial</th>\n",
              "      <th>IST_idescat</th>\n",
              "    </tr>\n",
              "  </thead>\n",
              "  <tbody>\n",
              "    <tr>\n",
              "      <th>0</th>\n",
              "      <td>250019</td>\n",
              "      <td>Abella de la Conca</td>\n",
              "      <td>25</td>\n",
              "      <td>Pallars Jussà</td>\n",
              "      <td>956</td>\n",
              "      <td>78.27</td>\n",
              "      <td>183</td>\n",
              "      <td>2.34</td>\n",
              "      <td>NaN</td>\n",
              "      <td>0.0</td>\n",
              "    </tr>\n",
              "    <tr>\n",
              "      <th>1</th>\n",
              "      <td>80018</td>\n",
              "      <td>Abrera</td>\n",
              "      <td>11</td>\n",
              "      <td>Baix Llobregat</td>\n",
              "      <td>105</td>\n",
              "      <td>19.94</td>\n",
              "      <td>12538</td>\n",
              "      <td>628.79</td>\n",
              "      <td>104.1</td>\n",
              "      <td>1.0</td>\n",
              "    </tr>\n",
              "    <tr>\n",
              "      <th>2</th>\n",
              "      <td>250024</td>\n",
              "      <td>Àger</td>\n",
              "      <td>23</td>\n",
              "      <td>Noguera</td>\n",
              "      <td>642</td>\n",
              "      <td>160.57</td>\n",
              "      <td>580</td>\n",
              "      <td>3.61</td>\n",
              "      <td>NaN</td>\n",
              "      <td>0.0</td>\n",
              "    </tr>\n",
              "  </tbody>\n",
              "</table>\n",
              "</div>"
            ],
            "text/plain": [
              "     Codi                Nom   ...  Índex socioeconòmic territorial IST_idescat\n",
              "0  250019  Abella de la Conca  ...                              NaN         0.0\n",
              "1   80018              Abrera  ...                            104.1         1.0\n",
              "2  250024                Àger  ...                              NaN         0.0\n",
              "\n",
              "[3 rows x 10 columns]"
            ]
          },
          "metadata": {},
          "execution_count": 53
        }
      ]
    },
    {
      "cell_type": "code",
      "metadata": {
        "id": "2j3CPi9WUQa8"
      },
      "source": [
        "df_missing =  df.loc[df['Índex socioeconòmic territorial'].isnull()] \n",
        "df_complete = df.loc[~df['Índex socioeconòmic territorial'].isnull()] "
      ],
      "execution_count": 54,
      "outputs": []
    },
    {
      "cell_type": "code",
      "metadata": {
        "colab": {
          "base_uri": "https://localhost:8080/",
          "height": 419
        },
        "id": "WVgGrNdxUfcE",
        "outputId": "990ff75e-bb0a-4f8c-bf8a-b19efd96eaf5"
      },
      "source": [
        "df_missing = df_missing.merge(df_ist_missing, how='left', left_on='Codi comarca', right_on='Codi', suffixes=('', '_y'))\n",
        "df_missing.drop(['Índex socioeconòmic territorial','Codi_y', 'Literal'], axis=1, inplace=True)\n",
        "df_missing.rename({'Índex socioeconòmic territorial_y': 'Índex socioeconòmic territorial'}, axis=1, inplace=True)\n",
        "df_missing"
      ],
      "execution_count": 55,
      "outputs": [
        {
          "output_type": "execute_result",
          "data": {
            "text/html": [
              "<div>\n",
              "<style scoped>\n",
              "    .dataframe tbody tr th:only-of-type {\n",
              "        vertical-align: middle;\n",
              "    }\n",
              "\n",
              "    .dataframe tbody tr th {\n",
              "        vertical-align: top;\n",
              "    }\n",
              "\n",
              "    .dataframe thead th {\n",
              "        text-align: right;\n",
              "    }\n",
              "</style>\n",
              "<table border=\"1\" class=\"dataframe\">\n",
              "  <thead>\n",
              "    <tr style=\"text-align: right;\">\n",
              "      <th></th>\n",
              "      <th>Codi</th>\n",
              "      <th>Nom</th>\n",
              "      <th>Codi comarca</th>\n",
              "      <th>Nom comarca</th>\n",
              "      <th>Altitud(m)</th>\n",
              "      <th>Superfície(km2)</th>\n",
              "      <th>Població</th>\n",
              "      <th>densitat(habitants/km2)</th>\n",
              "      <th>IST_idescat</th>\n",
              "      <th>Índex socioeconòmic territorial</th>\n",
              "    </tr>\n",
              "  </thead>\n",
              "  <tbody>\n",
              "    <tr>\n",
              "      <th>0</th>\n",
              "      <td>250019</td>\n",
              "      <td>Abella de la Conca</td>\n",
              "      <td>25</td>\n",
              "      <td>Pallars Jussà</td>\n",
              "      <td>956</td>\n",
              "      <td>78.27</td>\n",
              "      <td>183</td>\n",
              "      <td>2.34</td>\n",
              "      <td>0.0</td>\n",
              "      <td>96.0</td>\n",
              "    </tr>\n",
              "    <tr>\n",
              "      <th>1</th>\n",
              "      <td>250024</td>\n",
              "      <td>Àger</td>\n",
              "      <td>23</td>\n",
              "      <td>Noguera</td>\n",
              "      <td>642</td>\n",
              "      <td>160.57</td>\n",
              "      <td>580</td>\n",
              "      <td>3.61</td>\n",
              "      <td>0.0</td>\n",
              "      <td>89.4</td>\n",
              "    </tr>\n",
              "    <tr>\n",
              "      <th>2</th>\n",
              "      <td>80023</td>\n",
              "      <td>Aguilar de Segarra</td>\n",
              "      <td>7</td>\n",
              "      <td>Bages</td>\n",
              "      <td>480</td>\n",
              "      <td>43.32</td>\n",
              "      <td>282</td>\n",
              "      <td>6.51</td>\n",
              "      <td>0.0</td>\n",
              "      <td>97.0</td>\n",
              "    </tr>\n",
              "    <tr>\n",
              "      <th>3</th>\n",
              "      <td>170010</td>\n",
              "      <td>Agullana</td>\n",
              "      <td>2</td>\n",
              "      <td>Alt Empordà</td>\n",
              "      <td>166</td>\n",
              "      <td>27.73</td>\n",
              "      <td>863</td>\n",
              "      <td>31.12</td>\n",
              "      <td>0.0</td>\n",
              "      <td>84.2</td>\n",
              "    </tr>\n",
              "    <tr>\n",
              "      <th>4</th>\n",
              "      <td>80142</td>\n",
              "      <td>Aiguafreda</td>\n",
              "      <td>41</td>\n",
              "      <td>Vallès Oriental</td>\n",
              "      <td>404</td>\n",
              "      <td>7.90</td>\n",
              "      <td>2512</td>\n",
              "      <td>317.97</td>\n",
              "      <td>0.0</td>\n",
              "      <td>101.5</td>\n",
              "    </tr>\n",
              "    <tr>\n",
              "      <th>...</th>\n",
              "      <td>...</td>\n",
              "      <td>...</td>\n",
              "      <td>...</td>\n",
              "      <td>...</td>\n",
              "      <td>...</td>\n",
              "      <td>...</td>\n",
              "      <td>...</td>\n",
              "      <td>...</td>\n",
              "      <td>...</td>\n",
              "      <td>...</td>\n",
              "    </tr>\n",
              "    <tr>\n",
              "      <th>731</th>\n",
              "      <td>252555</td>\n",
              "      <td>Vinaixa</td>\n",
              "      <td>18</td>\n",
              "      <td>Garrigues</td>\n",
              "      <td>479</td>\n",
              "      <td>37.59</td>\n",
              "      <td>450</td>\n",
              "      <td>11.97</td>\n",
              "      <td>0.0</td>\n",
              "      <td>90.9</td>\n",
              "    </tr>\n",
              "    <tr>\n",
              "      <th>732</th>\n",
              "      <td>431779</td>\n",
              "      <td>Vinebre</td>\n",
              "      <td>30</td>\n",
              "      <td>Ribera d'Ebre</td>\n",
              "      <td>34</td>\n",
              "      <td>26.44</td>\n",
              "      <td>425</td>\n",
              "      <td>16.07</td>\n",
              "      <td>0.0</td>\n",
              "      <td>93.2</td>\n",
              "    </tr>\n",
              "    <tr>\n",
              "      <th>733</th>\n",
              "      <td>431785</td>\n",
              "      <td>Vinyols i els Arcs</td>\n",
              "      <td>8</td>\n",
              "      <td>Baix Camp</td>\n",
              "      <td>95</td>\n",
              "      <td>10.83</td>\n",
              "      <td>2124</td>\n",
              "      <td>196.12</td>\n",
              "      <td>0.0</td>\n",
              "      <td>94.5</td>\n",
              "    </tr>\n",
              "    <tr>\n",
              "      <th>734</th>\n",
              "      <td>83089</td>\n",
              "      <td>Viver i Serrateix</td>\n",
              "      <td>14</td>\n",
              "      <td>Berguedà</td>\n",
              "      <td>729</td>\n",
              "      <td>66.80</td>\n",
              "      <td>172</td>\n",
              "      <td>2.57</td>\n",
              "      <td>0.0</td>\n",
              "      <td>99.9</td>\n",
              "    </tr>\n",
              "    <tr>\n",
              "      <th>735</th>\n",
              "      <td>430521</td>\n",
              "      <td>Xerta</td>\n",
              "      <td>9</td>\n",
              "      <td>Baix Ebre</td>\n",
              "      <td>12</td>\n",
              "      <td>32.39</td>\n",
              "      <td>1154</td>\n",
              "      <td>35.63</td>\n",
              "      <td>0.0</td>\n",
              "      <td>86.4</td>\n",
              "    </tr>\n",
              "  </tbody>\n",
              "</table>\n",
              "<p>736 rows × 10 columns</p>\n",
              "</div>"
            ],
            "text/plain": [
              "       Codi                Nom   ...  IST_idescat Índex socioeconòmic territorial\n",
              "0    250019  Abella de la Conca  ...          0.0                            96.0\n",
              "1    250024                Àger  ...          0.0                            89.4\n",
              "2     80023  Aguilar de Segarra  ...          0.0                            97.0\n",
              "3    170010            Agullana  ...          0.0                            84.2\n",
              "4     80142          Aiguafreda  ...          0.0                           101.5\n",
              "..      ...                 ...  ...          ...                             ...\n",
              "731  252555             Vinaixa  ...          0.0                            90.9\n",
              "732  431779             Vinebre  ...          0.0                            93.2\n",
              "733  431785  Vinyols i els Arcs  ...          0.0                            94.5\n",
              "734   83089   Viver i Serrateix  ...          0.0                            99.9\n",
              "735  430521               Xerta  ...          0.0                            86.4\n",
              "\n",
              "[736 rows x 10 columns]"
            ]
          },
          "metadata": {},
          "execution_count": 55
        }
      ]
    },
    {
      "cell_type": "code",
      "metadata": {
        "colab": {
          "base_uri": "https://localhost:8080/",
          "height": 204
        },
        "id": "WxDGaX3YXLoq",
        "outputId": "ebbbbb5c-9d60-4b00-b1ca-e8440af38946"
      },
      "source": [
        "df = pd.concat([df_missing, df_complete])\n",
        "df.sort_values(by='Codi comarca', inplace=True)\n",
        "df.reset_index(inplace=True, drop=True)\n",
        "df.head()"
      ],
      "execution_count": 56,
      "outputs": [
        {
          "output_type": "execute_result",
          "data": {
            "text/html": [
              "<div>\n",
              "<style scoped>\n",
              "    .dataframe tbody tr th:only-of-type {\n",
              "        vertical-align: middle;\n",
              "    }\n",
              "\n",
              "    .dataframe tbody tr th {\n",
              "        vertical-align: top;\n",
              "    }\n",
              "\n",
              "    .dataframe thead th {\n",
              "        text-align: right;\n",
              "    }\n",
              "</style>\n",
              "<table border=\"1\" class=\"dataframe\">\n",
              "  <thead>\n",
              "    <tr style=\"text-align: right;\">\n",
              "      <th></th>\n",
              "      <th>Codi</th>\n",
              "      <th>Nom</th>\n",
              "      <th>Codi comarca</th>\n",
              "      <th>Nom comarca</th>\n",
              "      <th>Altitud(m)</th>\n",
              "      <th>Superfície(km2)</th>\n",
              "      <th>Població</th>\n",
              "      <th>densitat(habitants/km2)</th>\n",
              "      <th>IST_idescat</th>\n",
              "      <th>Índex socioeconòmic territorial</th>\n",
              "    </tr>\n",
              "  </thead>\n",
              "  <tbody>\n",
              "    <tr>\n",
              "      <th>0</th>\n",
              "      <td>430666</td>\n",
              "      <td>Garidells, els</td>\n",
              "      <td>1</td>\n",
              "      <td>Alt Camp</td>\n",
              "      <td>132</td>\n",
              "      <td>3.07</td>\n",
              "      <td>190</td>\n",
              "      <td>61.89</td>\n",
              "      <td>0.0</td>\n",
              "      <td>95.0</td>\n",
              "    </tr>\n",
              "    <tr>\n",
              "      <th>1</th>\n",
              "      <td>431191</td>\n",
              "      <td>Puigpelat</td>\n",
              "      <td>1</td>\n",
              "      <td>Alt Camp</td>\n",
              "      <td>252</td>\n",
              "      <td>9.48</td>\n",
              "      <td>1163</td>\n",
              "      <td>122.68</td>\n",
              "      <td>0.0</td>\n",
              "      <td>95.0</td>\n",
              "    </tr>\n",
              "    <tr>\n",
              "      <th>2</th>\n",
              "      <td>430108</td>\n",
              "      <td>Alió</td>\n",
              "      <td>1</td>\n",
              "      <td>Alt Camp</td>\n",
              "      <td>263</td>\n",
              "      <td>7.25</td>\n",
              "      <td>458</td>\n",
              "      <td>63.17</td>\n",
              "      <td>0.0</td>\n",
              "      <td>95.0</td>\n",
              "    </tr>\n",
              "    <tr>\n",
              "      <th>3</th>\n",
              "      <td>431135</td>\n",
              "      <td>Pont d'Armentera, el</td>\n",
              "      <td>1</td>\n",
              "      <td>Alt Camp</td>\n",
              "      <td>349</td>\n",
              "      <td>21.67</td>\n",
              "      <td>488</td>\n",
              "      <td>22.52</td>\n",
              "      <td>0.0</td>\n",
              "      <td>95.0</td>\n",
              "    </tr>\n",
              "    <tr>\n",
              "      <th>4</th>\n",
              "      <td>431080</td>\n",
              "      <td>Pla de Santa Maria, el</td>\n",
              "      <td>1</td>\n",
              "      <td>Alt Camp</td>\n",
              "      <td>381</td>\n",
              "      <td>34.99</td>\n",
              "      <td>2348</td>\n",
              "      <td>67.10</td>\n",
              "      <td>0.0</td>\n",
              "      <td>95.0</td>\n",
              "    </tr>\n",
              "  </tbody>\n",
              "</table>\n",
              "</div>"
            ],
            "text/plain": [
              "     Codi                    Nom   ...  IST_idescat Índex socioeconòmic territorial\n",
              "0  430666          Garidells, els  ...          0.0                            95.0\n",
              "1  431191               Puigpelat  ...          0.0                            95.0\n",
              "2  430108                    Alió  ...          0.0                            95.0\n",
              "3  431135    Pont d'Armentera, el  ...          0.0                            95.0\n",
              "4  431080  Pla de Santa Maria, el  ...          0.0                            95.0\n",
              "\n",
              "[5 rows x 10 columns]"
            ]
          },
          "metadata": {},
          "execution_count": 56
        }
      ]
    },
    {
      "cell_type": "code",
      "metadata": {
        "id": "pWKTAZ09Yq72"
      },
      "source": [
        "df.to_csv('idescat_data_final.csv', index=False)"
      ],
      "execution_count": 57,
      "outputs": []
    }
  ]
}